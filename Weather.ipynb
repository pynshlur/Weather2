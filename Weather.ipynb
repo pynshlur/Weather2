{
  "nbformat": 4,
  "nbformat_minor": 0,
  "metadata": {
    "colab": {
      "provenance": [],
      "toc_visible": true,
      "authorship_tag": "ABX9TyPtNuZB1ENWmgX6YFR/c9Xh",
      "include_colab_link": true
    },
    "kernelspec": {
      "name": "python3",
      "display_name": "Python 3"
    },
    "language_info": {
      "name": "python"
    }
  },
  "cells": [
    {
      "cell_type": "markdown",
      "metadata": {
        "id": "view-in-github",
        "colab_type": "text"
      },
      "source": [
        "<a href=\"https://colab.research.google.com/github/pynshlur/Weather2/blob/main/Weather.ipynb\" target=\"_parent\"><img src=\"https://colab.research.google.com/assets/colab-badge.svg\" alt=\"Open In Colab\"/></a>"
      ]
    },
    {
      "cell_type": "markdown",
      "source": [
        "Section 1:**Import** Libraries"
      ],
      "metadata": {
        "id": "G958DwRkuoFj"
      }
    },
    {
      "cell_type": "code",
      "execution_count": null,
      "metadata": {
        "id": "K0MTUMJxtpXQ"
      },
      "outputs": [],
      "source": [
        "import requests #This library helps us to fetch data from API\n",
        "import pandas as pd #for handling and analysing data\n",
        "import numpy as np #for numerical operations\n",
        "from sklearn.model_selection import train_test_split #to split data into training and testing sets\n",
        "from sklearn.preprocessing import LabelEncoder #to convert categorial data into numerical values\n",
        "from sklearn.ensemble import RandomForestClassifier, RandomForestRegressor #models for classification and regression tasks\n",
        "from sklearn.metrics import mean_squared_error #to measure the accuracy of our predictions\n",
        "from datetime import datetime, timedelta #to handle date and time\n",
        "import pytz"
      ]
    },
    {
      "cell_type": "code",
      "source": [
        "API_KEY = '4fe03f1b34cc0a01dd1987cff2fadf16' #replace with your actual API key\n",
        "BASE_URL = 'https://api.openweathermap.org/data/2.5/' #base url for making API requests"
      ],
      "metadata": {
        "id": "8n3qP1Mzy3q8"
      },
      "execution_count": null,
      "outputs": []
    },
    {
      "cell_type": "markdown",
      "source": [
        "1.Fetch Current Weather Data"
      ],
      "metadata": {
        "id": "vfcfC3Yk0Se5"
      }
    },
    {
      "cell_type": "code",
      "source": [
        "def get_current_weather(city):\n",
        "  url = f\"{BASE_URL}weather?q={city}&appid={API_KEY}&units=metric\" #construct the API request URL\n",
        "  response = requests.get(url) #send the get request to API\n",
        "  data = response.json()\n",
        "  return {\n",
        "      'city': data['name'],\n",
        "      'current_temp': round(data['main']['temp']),\n",
        "      'feels_like': round(data['main']['feels_like']),\n",
        "      'temp_min': round(data['main']['temp_min']),\n",
        "      'temp_max': round(data['main']['temp_max']),\n",
        "      'humidity': round(data['main']['humidity']),\n",
        "      'description': data['weather'][0]['description'],\n",
        "      'country': data['sys']['country'],\n",
        "      'wind_gust_dir': data ['wind']['deg'],\n",
        "      'pressure': data['main']['pressure'],\n",
        "      'Wind_Gust_Speed':data['wind']['speed']\n",
        "\n",
        "  }"
      ],
      "metadata": {
        "id": "Cy5jjh5g1QUr"
      },
      "execution_count": null,
      "outputs": []
    },
    {
      "cell_type": "markdown",
      "source": [
        "2.Read Historical Data"
      ],
      "metadata": {
        "id": "5Idztc0R4VFI"
      }
    },
    {
      "cell_type": "code",
      "source": [
        "def read_historical_data(filename):\n",
        "  df = pd.read_csv(filename) #load csv file into dataFrame\n",
        "  df = df.dropna() #remove rows with missing values\n",
        "  df = df.drop_duplicates()\n",
        "  return df"
      ],
      "metadata": {
        "id": "jKkNdwSb4dlH"
      },
      "execution_count": null,
      "outputs": []
    },
    {
      "cell_type": "markdown",
      "source": [
        "3.Prepare Data for training"
      ],
      "metadata": {
        "id": "RfYZdVMF6HjM"
      }
    },
    {
      "cell_type": "code",
      "source": [
        "def prepare_data(data):\n",
        "  le = LabelEncoder() #create a labelEncoder instance\n",
        "  data['WindGustDir'] = le.fit_transform(data['WindGustDir'])\n",
        "  data['RainTomorrow'] = le.fit_transform(data['RainTomorrow'])\n",
        "\n",
        "  #define the feature variable and the target variables\n",
        "  X = data[['MinTemp','MaxTemp','WindGustDir','WindGustSpeed','Humidity','Pressure','Temp']] #feature variables\n",
        "  y = data['RainTomorrow'] #target variable\n",
        "\n",
        "  return X,y,le #return the feature variable,target variable and the label encoder"
      ],
      "metadata": {
        "id": "9nhks6Ry6NFA"
      },
      "execution_count": null,
      "outputs": []
    },
    {
      "cell_type": "markdown",
      "source": [
        "4.Train Rain Prediction Model"
      ],
      "metadata": {
        "id": "740C1mdy82QB"
      }
    },
    {
      "cell_type": "code",
      "source": [
        "def train_rain_model(X,y):\n",
        "  X_train, X_test, y_train, y_test = train_test_split(X,y, test_size=0.2, random_state=42)\n",
        "  model = RandomForestClassifier(n_estimators=100, random_state=42)\n",
        "  model.fit(X_train,y_train) #train the model\n",
        "\n",
        "  y_pred = model.predict(X_test) # to make predictions on test set\n",
        "\n",
        "  print(\"Mean square  Error for Rain Model\")\n",
        "\n",
        "  print(mean_squared_error(y_test, y_pred))\n",
        "\n",
        "  return model"
      ],
      "metadata": {
        "id": "2xXjI73m8-N_"
      },
      "execution_count": null,
      "outputs": []
    },
    {
      "cell_type": "markdown",
      "source": [
        "5.Prepare regression data"
      ],
      "metadata": {
        "id": "kFEm3qCu_zi2"
      }
    },
    {
      "cell_type": "code",
      "source": [
        "def prepare_regression_data(data, feature):\n",
        "  X,y = [], [] #initialize list for feature and target values\n",
        "\n",
        "  for i in range(len(data) -1):\n",
        "    X.append(data[feature].iloc[i])\n",
        "\n",
        "    y.append(data[feature].iloc[i+1])\n",
        "\n",
        "  X = np.array(X).reshape(-1,1)\n",
        "  y = np.array(y)\n",
        "  return X, y"
      ],
      "metadata": {
        "id": "uwC_Otft_5_d"
      },
      "execution_count": null,
      "outputs": []
    },
    {
      "cell_type": "markdown",
      "source": [
        "6.Train Regression Model"
      ],
      "metadata": {
        "id": "hPVLD_krBuao"
      }
    },
    {
      "cell_type": "code",
      "source": [
        "def train_regression_model(X, y):\n",
        "  model = RandomForestRegressor(n_estimators=100, random_state=42)\n",
        "  model.fit(X, y)\n",
        "  return model"
      ],
      "metadata": {
        "id": "WC2I5tPWB0tF"
      },
      "execution_count": null,
      "outputs": []
    },
    {
      "cell_type": "markdown",
      "source": [
        "7.Predict the future"
      ],
      "metadata": {
        "id": "MeVk7LI2DCbi"
      }
    },
    {
      "cell_type": "code",
      "source": [
        "def predict_future(model, current_value):\n",
        "  predictions = [current_value]\n",
        "\n",
        "  for i in range(5):\n",
        "    next_value = model.predict(np.array([[predictions[-1]]]))\n",
        "\n",
        "    predictions.append(next_value[0])\n",
        "\n",
        "  return predictions[1:]"
      ],
      "metadata": {
        "id": "Z8X3Ao_ADHj5"
      },
      "execution_count": null,
      "outputs": []
    },
    {
      "cell_type": "markdown",
      "source": [
        "8.Weather analysis"
      ],
      "metadata": {
        "id": "KGv-K4NDEXcC"
      }
    },
    {
      "cell_type": "code",
      "source": [
        "def weather_view():\n",
        "  city = input('Enter any city name:')\n",
        "  current_weather = get_current_weather(city)\n",
        "\n",
        "  #load historical data\n",
        "  historical_data = read_historical_data('/content/weather.csv')\n",
        "\n",
        "  #prepare and train the rain prediction model\n",
        "\n",
        "  X,y,le = prepare_data(historical_data)\n",
        "\n",
        "  rain_model = train_rain_model(X, y)\n",
        "\n",
        "  #map wind direction to compass points\n",
        "  wind_deg = current_weather['wind_gust_dir'] % 360\n",
        "  compass_points = [\n",
        "      (\"N\",0, 11.25),(\"NNE\",11.25,33.75),(\"NE\",33.75,56.25),\n",
        "      (\"ENE\",56.25, 78.75),(\"E\",78.75, 101.25),(\"ESE\",101.25,123.75),\n",
        "      (\"SE\",123.75,146.25),(\"SSE\",146.25,168.75),(\"S\",168.75,191.25),\n",
        "      (\"SSW\",191.25,213.75),(\"SW\",213.75,236.25),(\"WSW\",236.25,258.75),\n",
        "      (\"w\",258.75,281.25),(\"WNW\",281.25,303.75),(\"NW\",303.75,326.25),\n",
        "      (\"NNW\",326.25,348.75)\n",
        "  ]\n",
        "  compass_direction =next(point for point, start, end in compass_points if start <= wind_deg < end)\n",
        "  compass_direction_encoded=le.transform([compass_direction])[0] if compass_direction in le.classes_ else -1\n",
        "\n",
        "\n",
        "\n",
        "  current_data = {\n",
        "      'MinTemp': current_weather['temp_min'],\n",
        "      'MaxTemp': current_weather['temp_max'],\n",
        "      'WindGustDir': compass_direction_encoded,\n",
        "      'WindGustSpeed': current_weather['Wind_Gust_Speed'],\n",
        "      'Humidity': current_weather['humidity'],\n",
        "      'Pressure': current_weather['pressure'],\n",
        "      'Temp': current_weather['current_temp'],\n",
        "  }\n",
        "  current_df = pd.DataFrame([current_data])\n",
        "\n",
        "  #rain prediction\n",
        "  rain_prediction = rain_model.predict(current_df)[0]\n",
        "\n",
        "\n",
        "\n",
        "  #prepare regression model for temperature and humidity\n",
        "\n",
        "  X_temp,y_temp = prepare_regression_data(historical_data, 'Temp')\n",
        "\n",
        "  X_hum, y_hum = prepare_regression_data(historical_data,'Humidity')\n",
        "\n",
        "  temp_model = train_regression_model(X_temp, y_temp)\n",
        "\n",
        "  hum_model = train_regression_model(X_hum, y_hum)\n",
        "\n",
        "  #predict future temperature  and humidity\n",
        "\n",
        "  future_temp = predict_future(temp_model, current_weather['temp_min'])\n",
        "\n",
        "  future_humidity = predict_future(hum_model, current_weather['humidity'])\n",
        "\n",
        "  #prepare time for future prediction\n",
        "  timezone = pytz.timezone('Asia/Kolkata')\n",
        "  now = datetime.now(timezone)\n",
        "  next_hour = now + timedelta(hours=1)\n",
        "  next_hour = next_hour.replace(minute=0, second=0, microsecond=0)\n",
        "\n",
        "  future_times = [(next_hour + timedelta(hours=i)).strftime(\"%H:00\") for i in range(5)]\n",
        "\n",
        "  #Display results\n",
        "  print(f\"City:{city},{current_weather['country']}\")\n",
        "  print(f\"Current Temperature:{current_weather['current_temp']}\")\n",
        "  print(f\"Feels like:{current_weather['feels_like']}\")\n",
        "  print(f\"Minimum Temperature:{current_weather['temp_min']}°C\")\n",
        "  print(f\"Maximum Temperature:{current_weather['temp_max']}°C\")\n",
        "  print(f\"Humidity:{current_weather['humidity']}%\")\n",
        "  print(f\"Weather Prediction:{current_weather['description']}\")\n",
        "  print(f\"Rain Prediction:{'Yes' if rain_prediction else 'No'}\")\n",
        "\n",
        "  print(\"\\nFuture Temperature Predictions:\")\n",
        "\n",
        "  for time, temp in zip(future_times, future_temp):\n",
        "    print(f\"{time}:{round(temp, 1)}°C\")\n",
        "\n",
        "  print(\"\\nFuture Humidity Predictions:\")\n",
        "\n",
        "  for time, humidity in zip(future_times, future_humidity):\n",
        "    print(f\"{time}:{round(humidity, 1)}%\")\n",
        "\n",
        "\n",
        "weather_view()"
      ],
      "metadata": {
        "colab": {
          "base_uri": "https://localhost:8080/"
        },
        "id": "kUudEpiFEaxm",
        "outputId": "2a7d2b88-1d4a-4b69-e38b-467644384514"
      },
      "execution_count": null,
      "outputs": [
        {
          "output_type": "stream",
          "name": "stdout",
          "text": [
            "Enter any city name:Kolkata\n",
            "Mean square  Error for Rain Model\n",
            "0.1506849315068493\n",
            "City:Kolkata,IN\n",
            "Current Temperature:32\n",
            "Feels like:30\n",
            "Minimum Temperature:32°C\n",
            "Maximum Temperature:32°C\n",
            "Humidity:27%\n",
            "Weather Prediction:clear sky\n",
            "Rain Prediction:No\n",
            "\n",
            "Future Temperature Predictions:\n",
            "17:00:32.5°C\n",
            "18:00:32.0°C\n",
            "19:00:32.4°C\n",
            "20:00:33.0°C\n",
            "21:00:25.1°C\n",
            "\n",
            "Future Humidity Predictions:\n",
            "17:00:34.8%\n",
            "18:00:38.4%\n",
            "19:00:52.3%\n",
            "20:00:43.4%\n",
            "21:00:46.8%\n"
          ]
        }
      ]
    },
    {
      "cell_type": "code",
      "source": [],
      "metadata": {
        "id": "-tW4r2jZhIYX"
      },
      "execution_count": null,
      "outputs": []
    }
  ]
}